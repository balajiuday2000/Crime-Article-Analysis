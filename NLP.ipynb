{
 "cells": [
  {
   "cell_type": "markdown",
   "id": "71c7ff67",
   "metadata": {},
   "source": [
    "### Loading the data"
   ]
  },
  {
   "cell_type": "code",
   "execution_count": 1,
   "id": "798eb64b",
   "metadata": {
    "ExecuteTime": {
     "end_time": "2022-05-01T19:03:03.101962Z",
     "start_time": "2022-05-01T19:03:00.686619Z"
    }
   },
   "outputs": [],
   "source": [
    "# Required libraries\n",
    "\n",
    "import pandas as pd\n",
    "import numpy as np\n",
    "import nltk\n",
    "from nltk import pos_tag\n",
    "from nltk.corpus import stopwords, wordnet\n",
    "from nltk.tokenize import word_tokenize, sent_tokenize\n",
    "from nltk.stem import WordNetLemmatizer\n",
    "import spacy\n",
    "from collections import Counter\n",
    "import en_core_web_sm\n",
    "import geotext\n",
    "from geotext import GeoText\n",
    "%matplotlib inline"
   ]
  },
  {
   "cell_type": "code",
   "execution_count": 2,
   "id": "10a1727a",
   "metadata": {
    "ExecuteTime": {
     "end_time": "2022-05-01T19:03:03.242542Z",
     "start_time": "2022-05-01T19:03:03.103917Z"
    }
   },
   "outputs": [],
   "source": [
    "# Import data\n",
    "df = pd.read_csv(\"dataset_parse_drop.csv\", index_col = [0])"
   ]
  },
  {
   "cell_type": "code",
   "execution_count": 3,
   "id": "fd0a563b",
   "metadata": {
    "ExecuteTime": {
     "end_time": "2022-05-01T19:03:03.257754Z",
     "start_time": "2022-05-01T19:03:03.245555Z"
    }
   },
   "outputs": [
    {
     "data": {
      "text/plain": [
       "Index(['Title', 'Date', 'Station', 'Text', 'Tags'], dtype='object')"
      ]
     },
     "execution_count": 3,
     "metadata": {},
     "output_type": "execute_result"
    }
   ],
   "source": [
    "# Columns\n",
    "df.columns"
   ]
  },
  {
   "cell_type": "code",
   "execution_count": 4,
   "id": "64e27474",
   "metadata": {
    "ExecuteTime": {
     "end_time": "2022-05-01T19:03:03.273186Z",
     "start_time": "2022-05-01T19:03:03.260260Z"
    }
   },
   "outputs": [
    {
     "data": {
      "text/plain": [
       "6374"
      ]
     },
     "execution_count": 4,
     "metadata": {},
     "output_type": "execute_result"
    }
   ],
   "source": [
    "# No of articles\n",
    "len(df)"
   ]
  },
  {
   "cell_type": "code",
   "execution_count": 5,
   "id": "828d6e1c",
   "metadata": {
    "ExecuteTime": {
     "end_time": "2022-05-01T19:03:03.336024Z",
     "start_time": "2022-05-01T19:03:03.275178Z"
    }
   },
   "outputs": [
    {
     "data": {
      "text/plain": [
       "Title      0\n",
       "Date       5\n",
       "Station    1\n",
       "Text       0\n",
       "Tags       0\n",
       "dtype: int64"
      ]
     },
     "execution_count": 5,
     "metadata": {},
     "output_type": "execute_result"
    }
   ],
   "source": [
    "# Check for null values\n",
    "df.isna().sum()"
   ]
  },
  {
   "cell_type": "code",
   "execution_count": 6,
   "id": "10a36c9e",
   "metadata": {
    "ExecuteTime": {
     "end_time": "2022-05-01T19:03:03.351813Z",
     "start_time": "2022-05-01T19:03:03.338032Z"
    }
   },
   "outputs": [],
   "source": [
    "# Deal with null values\n",
    "df['Station'].fillna(df['Station'].mode(), inplace = True)\n",
    "df['Date'].fillna(\"Unknown\", inplace = True)"
   ]
  },
  {
   "cell_type": "code",
   "execution_count": 7,
   "id": "3c4213e1",
   "metadata": {
    "ExecuteTime": {
     "end_time": "2022-05-01T19:03:14.482588Z",
     "start_time": "2022-05-01T19:03:03.353807Z"
    }
   },
   "outputs": [],
   "source": [
    "# Remove punctuations and stop words\n",
    "\n",
    "df[\"Processed_Text\"] = df[\"Text\"].str.replace(\"[^\\w\\s]\",\" \")\n",
    "df[\"Processed_Text\"] = df[\"Processed_Text\"].str.replace(pat = \"[\\s]+\", repl = \" \", regex = True)\n",
    "df[\"Processed_Text\"] = df[\"Processed_Text\"].apply(lambda row: word_tokenize(row))\n",
    "stopwords = nltk.corpus.stopwords.words(\"english\")\n",
    "df[\"Processed_Text\"] = df[\"Processed_Text\"].apply(lambda x: [item for item in x if item not in stopwords])\n",
    "df[\"Processed_Text\"] = df[\"Processed_Text\"].apply(lambda x: ' '.join([item for item in x]))"
   ]
  },
  {
   "cell_type": "markdown",
   "id": "298e04e4",
   "metadata": {},
   "source": [
    "### Extraction of People"
   ]
  },
  {
   "cell_type": "code",
   "execution_count": 8,
   "id": "83d99acf",
   "metadata": {
    "ExecuteTime": {
     "end_time": "2022-05-01T20:00:24.016320Z",
     "start_time": "2022-05-01T19:03:14.484584Z"
    }
   },
   "outputs": [],
   "source": [
    "# Extract people involved in each article\n",
    "\n",
    "def find_people(document):\n",
    "    nlp = en_core_web_sm.load()\n",
    "    tokens = nlp(document)\n",
    "    all_people = []\n",
    "    people = []\n",
    "    \n",
    "    for ent in tokens.ents:\n",
    "        if ent.label_ == 'PERSON':\n",
    "            all_people.append(ent.text)\n",
    "    all_people = list(set(all_people))\n",
    "    \n",
    "    for person in all_people:\n",
    "        if \" \" in person:\n",
    "            people.append(person)\n",
    "    \n",
    "    if len(people) == 0:\n",
    "        return \"Unknown\"\n",
    "    return people\n",
    "\n",
    "df[\"People\"] = df[\"Processed_Text\"].apply(lambda row: find_people(row))"
   ]
  },
  {
   "cell_type": "code",
   "execution_count": 9,
   "id": "c29e766c",
   "metadata": {
    "ExecuteTime": {
     "end_time": "2022-05-01T20:00:24.032055Z",
     "start_time": "2022-05-01T20:00:24.018129Z"
    }
   },
   "outputs": [
    {
     "data": {
      "text/plain": [
       "['Marie Hamilton',\n",
       " 'Armida Castro',\n",
       " 'Jose Alejandro Navarette Castro',\n",
       " 'Adam Barcenas']"
      ]
     },
     "execution_count": 9,
     "metadata": {},
     "output_type": "execute_result"
    }
   ],
   "source": [
    "df[\"People\"].iloc[0]"
   ]
  },
  {
   "cell_type": "markdown",
   "id": "ead01504",
   "metadata": {},
   "source": [
    "### Extraction of Places"
   ]
  },
  {
   "cell_type": "code",
   "execution_count": 10,
   "id": "82fc9b75",
   "metadata": {
    "ExecuteTime": {
     "end_time": "2022-05-01T20:00:24.598131Z",
     "start_time": "2022-05-01T20:00:24.035008Z"
    }
   },
   "outputs": [],
   "source": [
    "# Extract places involved in each article\n",
    "\n",
    "def find_places(document):\n",
    "    places = GeoText(document)\n",
    "    cities = list(set(places.cities))\n",
    "\n",
    "    if len(cities) == 0:\n",
    "        return \"Unknown\"\n",
    "    return cities\n",
    "\n",
    "df[\"Places\"] = df[\"Processed_Text\"].apply(lambda row: find_places(row))"
   ]
  },
  {
   "cell_type": "code",
   "execution_count": 11,
   "id": "2995d748",
   "metadata": {
    "ExecuteTime": {
     "end_time": "2022-05-01T20:00:24.613567Z",
     "start_time": "2022-05-01T20:00:24.600119Z"
    }
   },
   "outputs": [
    {
     "data": {
      "text/plain": [
       "['Castro', 'Oxnard']"
      ]
     },
     "execution_count": 11,
     "metadata": {},
     "output_type": "execute_result"
    }
   ],
   "source": [
    "df[\"Places\"].iloc[0]"
   ]
  },
  {
   "cell_type": "markdown",
   "id": "fb92d8ec",
   "metadata": {},
   "source": [
    "### Extraction of Descriptions"
   ]
  },
  {
   "cell_type": "code",
   "execution_count": 12,
   "id": "106298b6",
   "metadata": {
    "ExecuteTime": {
     "end_time": "2022-05-01T20:02:02.649450Z",
     "start_time": "2022-05-01T20:00:24.615817Z"
    }
   },
   "outputs": [],
   "source": [
    "# Tag parts of speech to words \n",
    "def preprocess(text):\n",
    "    text = text.replace(\".\", \". \")\n",
    "    text = nltk.word_tokenize(text)\n",
    "    text = nltk.pos_tag(text)\n",
    "    return text\n",
    "\n",
    "# Extract descriptions based on a pattern\n",
    "def find_descriptions(document):\n",
    "    text = preprocess(document)\n",
    "    pattern = 'NP: {<DT>?<JJ>+<NNP>*<NN>+}'\n",
    "    chunker = nltk.RegexpParser(pattern)\n",
    "    tagged_phrases = str(chunker.parse(text))\n",
    "    tagged_phrases = tagged_phrases.split('\\n')\n",
    "    \n",
    "    chunks = []\n",
    "    for string in tagged_phrases:\n",
    "        if '(NP' in string and 'NN)' in string:\n",
    "            chunks.append(string)\n",
    "    chunks = [x.replace('(NP', '').replace('/DT', '').replace('/NN)', '').replace('/NN', '').replace('/JJ', '').replace('/NNP', '').replace('   ', '') for x in chunks]\n",
    "    \n",
    "    document = document.replace(\".\", \". \")\n",
    "    sentences = sent_tokenize(document)\n",
    "    for sentence in sentences:\n",
    "        if \"describe\" in sentence:\n",
    "            chunks.append(sentence)\n",
    "            \n",
    "    return chunks\n",
    "\n",
    "df['Descriptions'] = df['Text'].apply(lambda row: find_descriptions(row))"
   ]
  },
  {
   "cell_type": "code",
   "execution_count": 13,
   "id": "47733588",
   "metadata": {
    "ExecuteTime": {
     "end_time": "2022-05-01T20:02:02.665215Z",
     "start_time": "2022-05-01T20:02:02.651466Z"
    }
   },
   "outputs": [
    {
     "data": {
      "text/plain": [
       "['a domestic violence incident',\n",
       " 'a tumultuous dating relationship',\n",
       " 'domestic violence',\n",
       " 'initial investigation',\n",
       " 'the rear cargo hatch',\n",
       " 'domestic violence',\n",
       " 'a white female',\n",
       " 'brown hair',\n",
       " 'a white male',\n",
       " 'brown hair',\n",
       " 'Anonymous information',\n",
       " 'Custer is described as a white female, 5 feet 8 inches tall, weighing 140 pounds, with brown hair and green eyes.',\n",
       " 'Camou is described as a white male, 6 feet tall, weighing 150 pounds, with brown hair and brown eyes.']"
      ]
     },
     "execution_count": 13,
     "metadata": {},
     "output_type": "execute_result"
    }
   ],
   "source": [
    "df['Descriptions'].iloc[14]"
   ]
  },
  {
   "cell_type": "markdown",
   "id": "35bf4928",
   "metadata": {},
   "source": [
    "### Classification"
   ]
  },
  {
   "cell_type": "code",
   "execution_count": 14,
   "id": "3ba189cf",
   "metadata": {
    "ExecuteTime": {
     "end_time": "2022-05-01T20:03:12.939222Z",
     "start_time": "2022-05-01T20:02:02.668203Z"
    }
   },
   "outputs": [],
   "source": [
    "# Perform lemmatization\n",
    "\n",
    "lemmatizer = WordNetLemmatizer()\n",
    "\n",
    "def lemmatize_word(tagged_token):\n",
    "    \"\"\" Returns lemmatized word given its tag\"\"\"\n",
    "    root = []\n",
    "    for token in tagged_token:\n",
    "        tag = token[1][0]\n",
    "        word = token[0]\n",
    "        if tag.startswith('J'):\n",
    "            root.append(lemmatizer.lemmatize(word, wordnet.ADJ))\n",
    "        elif tag.startswith('V'):\n",
    "            root.append(lemmatizer.lemmatize(word, wordnet.VERB))\n",
    "        elif tag.startswith('N'):\n",
    "            root.append(lemmatizer.lemmatize(word, wordnet.NOUN))\n",
    "        elif tag.startswith('R'):\n",
    "            root.append(lemmatizer.lemmatize(word, wordnet.ADV))\n",
    "        else:          \n",
    "            root.append(word)\n",
    "    return root\n",
    "\n",
    "def lemmatize_doc(document):\n",
    "    \"\"\" Tags words then returns sentence with lemmatized words\"\"\"\n",
    "    lemmatized_list = []\n",
    "    tokenized_sentence = sent_tokenize(document)\n",
    "    for sentence in tokenized_sentence:\n",
    "        tokenized_word = word_tokenize(sentence)\n",
    "        tagged_token = pos_tag(tokenized_word)\n",
    "        lemmatized = lemmatize_word(tagged_token)\n",
    "        lemmatized_list.extend(lemmatized)\n",
    "    return \" \".join(lemmatized_list)\n",
    "\n",
    "df[\"Processed_Text\"] = df[\"Processed_Text\"].apply(lambda row: lemmatize_doc(row))"
   ]
  },
  {
   "cell_type": "code",
   "execution_count": 15,
   "id": "9234993e",
   "metadata": {
    "ExecuteTime": {
     "end_time": "2022-05-01T20:03:12.954742Z",
     "start_time": "2022-05-01T20:03:12.941222Z"
    }
   },
   "outputs": [],
   "source": [
    "# Create vocabulary to differentiate violent and non-violent crimes \n",
    "vocabulary = [\"attack\", \"attacked\", \"attacking\", \"armed\", \"gun\", \"guns\", \"abduct\", \"abducted\", \"abducting\", \"kidnap\", \"kidnapped\", \"kidnapping\", \"shoot\", \"shot\", \"shooting\", \"kill\", \"killed\", \"killing\", \"murder\", \"murdered\", \"murdering\", \"assault\", \"assaulting\", \"assaulted\", \"beat\", \"beating\", \"kick\", \"kicked\", \"kicking\"]"
   ]
  },
  {
   "cell_type": "code",
   "execution_count": 16,
   "id": "11f8928d",
   "metadata": {
    "ExecuteTime": {
     "end_time": "2022-05-01T20:03:13.064184Z",
     "start_time": "2022-05-01T20:03:12.956736Z"
    }
   },
   "outputs": [],
   "source": [
    "# Classification\n",
    "\n",
    "def find_violence(document):\n",
    "    return any(word in document for word in vocabulary)\n",
    "\n",
    "df[\"Violent_Crime\"] = df[\"Processed_Text\"].apply(lambda row: find_violence(row))"
   ]
  },
  {
   "cell_type": "code",
   "execution_count": 17,
   "id": "345e3d59",
   "metadata": {
    "ExecuteTime": {
     "end_time": "2022-05-01T20:03:13.079907Z",
     "start_time": "2022-05-01T20:03:13.067101Z"
    }
   },
   "outputs": [
    {
     "data": {
      "text/plain": [
       "'OXNARD Calif KABC A transient smile attack 71 year old grandmother 80 year old man sentence six year prison Wednesday The grandmother Armida Castro die week hospitalize injury In emotional hearing Ventura County Superior Court Castro family ask strong penalty 56 year old defendant Adam Barcenas We hop see heinous act beat kick helpless ail woman This merely abuse This evil cowardly act say Castro son law Jose Alejandro Navarette Castro family understand Barcenas try homicide According medical examiner Castro die eight day attack blood clot cause injury But opinion conclusive The Ventura County District Attorney say Castro pre exist medical condition put risk strong evidence need prove beyond reasonable doubt Barcenas cause death Instead face potential life sentence Barcenas plead guilty two elder abuse felony misdemeanor resist arrest sentence six year state prison Barcenas suffers mental illness stabilizes treatment accord report cite court His sentence would less six year Barcenas prior strike robbery The judge note Barcenas turn day commit crime apologize return money He say wanted bus fare go home The court instruct Barcenas seek counsel prison Castro family worry day smile Barcenas go free I believe Adam Barcenas menace society Oxnard want street say victim daughter Marie Hamilton'"
      ]
     },
     "execution_count": 17,
     "metadata": {},
     "output_type": "execute_result"
    }
   ],
   "source": [
    "df[\"Processed_Text\"].iloc[0]"
   ]
  },
  {
   "cell_type": "code",
   "execution_count": 18,
   "id": "09acfd34",
   "metadata": {
    "ExecuteTime": {
     "end_time": "2022-05-01T20:03:13.095907Z",
     "start_time": "2022-05-01T20:03:13.081899Z"
    }
   },
   "outputs": [
    {
     "data": {
      "text/plain": [
       "True"
      ]
     },
     "execution_count": 18,
     "metadata": {},
     "output_type": "execute_result"
    }
   ],
   "source": [
    "df[\"Violent_Crime\"].iloc[0]"
   ]
  },
  {
   "cell_type": "markdown",
   "id": "4dcf2eb0",
   "metadata": {},
   "source": [
    "### Violent and Non-violent Crimes"
   ]
  },
  {
   "cell_type": "code",
   "execution_count": 19,
   "id": "05dd9772",
   "metadata": {
    "ExecuteTime": {
     "end_time": "2022-05-01T20:03:13.127228Z",
     "start_time": "2022-05-01T20:03:13.097860Z"
    }
   },
   "outputs": [],
   "source": [
    "df_violent = df[df['Violent_Crime'] == True]\n",
    "df_non_violent = df[df['Violent_Crime'] == False]"
   ]
  },
  {
   "cell_type": "code",
   "execution_count": 20,
   "id": "04c8afd1",
   "metadata": {
    "ExecuteTime": {
     "end_time": "2022-05-01T20:03:13.143225Z",
     "start_time": "2022-05-01T20:03:13.129262Z"
    }
   },
   "outputs": [
    {
     "data": {
      "text/plain": [
       "'MONROVIA, Calif. (KABC) -- Authorities are trying to find a woman they believe was kidnapped following a domestic violence incident in Monrovia.Investigators are trying to find Amanda Kathleen Custer, 31, after they say they found indications she had been assaulted and then placed in the back of a car in the 600 block of Vaquero Road Monday morning.The suspect has been identified as Robert Anthony Camou, 27.Investigators say Custer and Camou had been in a tumultuous dating relationship over the last two years, one marked by multiple allegations of domestic violence.Detectives believe Custer was kidnapped in a 2017 gray Toyota Prius, California license plate 8AOR167.Officers found blood at the scene and accounts from witnesses that Custer was placed in the back of the Prius.\"Officers learned during their initial investigation this morning that there was blood at the scene,\" said Lt. Scott Hoglund with the Los Angeles County Sheriff\\'s Department, which is assisting Monrovia police. \"There was also a witness account that the suspect had placed the victim under the rear cargo hatch of a 2017 gray Toyota Prius.\"There was no indication she was actively resisting while being placed in the vehicle, but investigators are continuing to treat the case as a kidnapping and not a homicide.\"It\\'s my understanding the Monrovia Police Department has handled numerous incidents involving the suspect and the victim involving domestic violence,\" Hoglund said.Custer is described as a white female, 5 feet 8 inches tall, weighing 140 pounds, with brown hair and green eyes.Camou is described as a white male, 6 feet tall, weighing 150 pounds, with brown hair and brown eyes.Anyone with information is asked to call the Los Angeles County Sheriff\\'s Department Homicide Bureau at (323)890-5500. Anonymous information can be provided to Crime Stoppers at (800)222-TIPS.'"
      ]
     },
     "execution_count": 20,
     "metadata": {},
     "output_type": "execute_result"
    }
   ],
   "source": [
    "df_violent['Text'].iloc[10]"
   ]
  },
  {
   "cell_type": "code",
   "execution_count": 21,
   "id": "28779ede",
   "metadata": {
    "ExecuteTime": {
     "end_time": "2022-05-01T20:03:13.158564Z",
     "start_time": "2022-05-01T20:03:13.145172Z"
    }
   },
   "outputs": [
    {
     "data": {
      "text/plain": [
       "'HAWTHORNE, Calif.  (KABC) -- A woman is dead and a man seriously injured after a hit-and-run crash Saturday night in Hawthorne, authorities say.Police say the two victims were walking around 1:45 a.m. along Prairie Avenue, near El Segundo Boulevard, when a driver hit them and took off.Evidence at the scene led police to a home in Hawthorne, where they arrested a suspect for driving under the influence and hit-and-run.Another driver struck a Hawthorne police car during that investigation.Nobody was hurt in that crash and police say driving under the influence was not the cause for the second crash.'"
      ]
     },
     "execution_count": 21,
     "metadata": {},
     "output_type": "execute_result"
    }
   ],
   "source": [
    "df_violent['Text'].iloc[100]"
   ]
  },
  {
   "cell_type": "code",
   "execution_count": 22,
   "id": "93677281",
   "metadata": {
    "ExecuteTime": {
     "end_time": "2022-05-01T20:03:13.173713Z",
     "start_time": "2022-05-01T20:03:13.161231Z"
    }
   },
   "outputs": [
    {
     "data": {
      "text/plain": [
       "'NORTHRIDGE, Calif.  (KABC) -- A search is underway for three burglary suspects who got away after authorities descended on a marijuana dispensary in Northridge early Thursday morning.When the SWAT team arrived at the Circle of Hope Alliance dispensary on Roscoe Boulevard around 6 a.m., they swept through the property, but nobody was found in the building.Police said the three possibly armed male suspects went inside the building and managed to get away.The scene was cleared within hours, but authorities have not released updates on their search.'"
      ]
     },
     "execution_count": 22,
     "metadata": {},
     "output_type": "execute_result"
    }
   ],
   "source": [
    "df_non_violent['Text'].iloc[10]"
   ]
  },
  {
   "cell_type": "code",
   "execution_count": 23,
   "id": "f7f69a1f",
   "metadata": {
    "ExecuteTime": {
     "end_time": "2022-05-01T20:03:13.189712Z",
     "start_time": "2022-05-01T20:03:13.175705Z"
    }
   },
   "outputs": [
    {
     "data": {
      "text/plain": [
       "'PERRIS, Calif. (KABC) -- One shopper\\'s horrific experience has her thinking twice about ever going back to a Perris Walmart.She says a man grabbed her leg and tried to take a picture up her skirt using a cellphone as she was buying groceries for her children.Now, she wants to warn other shoppers before he does something like this again.\"I can\\'t sleep, I can\\'t eat,\" said the woman, Rosa. \"I think about not only my safety but the safety of my children, the safety of so many women who go in that store.\"The Mead Valley woman says she was shopping at the Walmart supercenter on Perris Boulevard in Perris Friday night around 6:30 p.m. An unknown man approached her in one of the food aisles.\"As he turned the corner he had this determined look in his eye, he was coming towards me.\"She says at first she thought he was just walking quickly, and was going to pass by.But she says the guy put his hand on her legs, and tried to take a picture up her skirt using a cellphone.\"As soon as I felt it in between my thighs, I quickly reacted and I thought what is going on here, did you seriously do that?\"She says she tried to fight back, and the guy ran away.But despite her screams, she says no one jumped in to help her.\"I said help, help, no one did anything, I chased him, as far as I could to the doors, I saw employees, they just parted ways and said they couldn\\'t help me as I was saying at them to help me.\"She called police, and has filed a report with the Perris station of the Riverside County Sheriff\\'s Department.She says the deputy who responded reviewed surveillance video, and told her it showed the man getting into a white van.Police have yet to release any surveillance video that might show the suspect. They say they\\'re still investigating.\"It scared me, because I did not expect anyone to be touching my thigh inside a Walmart, while I was trying to get baking goods for my children.\"In response to this story, Walmart sent us this statement: \"We care deeply about our customers and are frequently reviewing and strengthening our safety and security measures, and protocols. When made aware of this incident, our associates called police and waited with the customer until authorities arrived.\"'"
      ]
     },
     "execution_count": 23,
     "metadata": {},
     "output_type": "execute_result"
    }
   ],
   "source": [
    "df_non_violent['Text'].iloc[100]"
   ]
  },
  {
   "cell_type": "markdown",
   "id": "d365c908",
   "metadata": {},
   "source": [
    "### Types of Crimes"
   ]
  },
  {
   "cell_type": "markdown",
   "id": "3021e1a5",
   "metadata": {
    "ExecuteTime": {
     "end_time": "2022-05-01T19:01:14.938481Z",
     "start_time": "2022-05-01T19:01:14.925660Z"
    }
   },
   "source": [
    "#### Crimes :\n",
    "0. Ambiguous\n",
    "1. Shootings\n",
    "2. Assault / Domestic Violence / Abuse\n",
    "3. Car Crashes / Chases / Carjackings\n",
    "4. Homicides\n",
    "5. Sexual Crimes\n",
    "6. Robberies\n",
    "7. Abductions\n",
    "8. Drug-related Crimes\n",
    "9. Fraud / Scam\n",
    "10. Terrorism / Bombings / Bomb Threats\n",
    "11. Vandalism\n",
    "12. Protests\n",
    "13. Police brutality"
   ]
  },
  {
   "cell_type": "code",
   "execution_count": 24,
   "id": "75be04d4",
   "metadata": {
    "ExecuteTime": {
     "end_time": "2022-05-01T20:03:13.205619Z",
     "start_time": "2022-05-01T20:03:13.191603Z"
    }
   },
   "outputs": [],
   "source": [
    "def TypeOfCrime(list_):\n",
    "    \n",
    "    if 'shoot' in list_:\n",
    "        return 1\n",
    "    elif 'assault' in list_ or 'abuse' in list_ or 'domestic violence' in list_:\n",
    "        return 2\n",
    "    elif 'crash' in list_ or 'drunk' in list_ or 'carjacking' in list_ or 'racing' in list_ or 'hit and run' in list_ or 'road rage' in list_ or 'dui' in list_ or 'chase' in list_:\n",
    "        return 3\n",
    "    elif 'murder' in list_ or 'homicide' in list_ or 'death' in list_ or 'killed' in list_:\n",
    "        return 4\n",
    "    elif 'sex' in list_ or 'nude' in list_ or 'rape' in list_ or 'porn' in list_ or 'naked' in list_ or 'peeping' in list_ or 'prostitution' in list_ or 'human trafficking' in list_ or 'molestation' in list_ or 'stalking' in list_:\n",
    "        return 5\n",
    "    elif 'robbery' in list_ or 'burglary' in list_ or 'theft' in list_ or 'stolen' in list_ or 'shoplifting' in list_:\n",
    "        return 6\n",
    "    elif 'abduct' in list_ or 'kidnap' in list_ or 'missing' in list_ or 'amber alert' in list_:\n",
    "        return 7\n",
    "    elif 'drug' in list_ or 'meth' in list_ or 'marijuana' in list_:\n",
    "        return 8\n",
    "    elif 'fraud' in list_ or 'identity theft' in list_ or 'scam' in  list_:\n",
    "        return 9\n",
    "    elif 'terror' in list_ or 'bomb' in list_:\n",
    "        return 10\n",
    "    elif 'vandalism' in list_:\n",
    "        return 11\n",
    "    elif 'protest' in list_:\n",
    "        return 12\n",
    "    elif 'police brutality' in list_:\n",
    "        return 13\n",
    "    else:\n",
    "        return 0"
   ]
  },
  {
   "cell_type": "code",
   "execution_count": 25,
   "id": "0a47b3af",
   "metadata": {
    "ExecuteTime": {
     "end_time": "2022-05-01T20:03:13.237071Z",
     "start_time": "2022-05-01T20:03:13.207550Z"
    }
   },
   "outputs": [],
   "source": [
    "df['TypeOfCrime'] = df['Tags'].apply(lambda row : TypeOfCrime(row))"
   ]
  },
  {
   "cell_type": "code",
   "execution_count": 26,
   "id": "aff71229",
   "metadata": {
    "ExecuteTime": {
     "end_time": "2022-05-01T20:03:13.252792Z",
     "start_time": "2022-05-01T20:03:13.238780Z"
    }
   },
   "outputs": [
    {
     "data": {
      "text/plain": [
       "0     1576\n",
       "1     1533\n",
       "2      625\n",
       "3      634\n",
       "4      626\n",
       "5      154\n",
       "6      357\n",
       "7      220\n",
       "8       84\n",
       "9       88\n",
       "10      57\n",
       "11     134\n",
       "12     216\n",
       "13      70\n",
       "Name: TypeOfCrime, dtype: int64"
      ]
     },
     "execution_count": 26,
     "metadata": {},
     "output_type": "execute_result"
    }
   ],
   "source": [
    "df['TypeOfCrime'].value_counts().sort_index()"
   ]
  },
  {
   "cell_type": "markdown",
   "id": "85d76e03",
   "metadata": {},
   "source": [
    "### Output :"
   ]
  },
  {
   "cell_type": "code",
   "execution_count": 27,
   "id": "d0b7f33d",
   "metadata": {
    "ExecuteTime": {
     "end_time": "2022-05-01T20:03:13.793366Z",
     "start_time": "2022-05-01T20:03:13.253730Z"
    }
   },
   "outputs": [],
   "source": [
    "df.to_csv(\"NLP.csv\")"
   ]
  }
 ],
 "metadata": {
  "kernelspec": {
   "display_name": "Python 3 (ipykernel)",
   "language": "python",
   "name": "python3"
  },
  "language_info": {
   "codemirror_mode": {
    "name": "ipython",
    "version": 3
   },
   "file_extension": ".py",
   "mimetype": "text/x-python",
   "name": "python",
   "nbconvert_exporter": "python",
   "pygments_lexer": "ipython3",
   "version": "3.7.4"
  }
 },
 "nbformat": 4,
 "nbformat_minor": 5
}
